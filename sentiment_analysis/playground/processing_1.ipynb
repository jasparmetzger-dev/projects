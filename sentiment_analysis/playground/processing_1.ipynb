{
 "cells": [
  {
   "cell_type": "code",
   "execution_count": 6,
   "id": "50be36e7",
   "metadata": {},
   "outputs": [
    {
     "name": "stdout",
     "output_type": "stream",
     "text": [
      "{'gehen': 'VERB', 'gerne': 'ADV', 'Kino': 'NOUN', 'Film': 'NOUN', 'schauen': 'VERB'}\n"
     ]
    }
   ],
   "source": [
    "import spacy\n",
    "\n",
    "model = spacy.load(\"de_core_news_sm\")\n",
    "def lemma(token):\n",
    "\n",
    "    doc = model(token)\n",
    "    return doc[0].lemma_, doc[0].pos_\n",
    "\n",
    "def preprocess(s: str):\n",
    "    from nltk.tokenize import word_tokenize\n",
    "    from nltk import corpus\n",
    "    import string\n",
    "\n",
    "\n",
    "    s = s.lower()\n",
    "    tokens = word_tokenize(s, language= \"german\")\n",
    "    stop_words = set(corpus.stopwords.words(\"german\"))\n",
    "    \n",
    "    processed = []\n",
    "    pos_arr = []\n",
    "    hmap = {}\n",
    "    for token in tokens:\n",
    "        if token not in stop_words and token not in string.punctuation:\n",
    "            lem, pos = lemma(token)\n",
    "            processed.append(lem)\n",
    "            pos_arr.append(pos)\n",
    "            hmap[lem] = pos\n",
    "\n",
    "    return hmap\n",
    "\n",
    "inp = 'Ich gehe gerne zum Kino einen Film schauen'\n",
    "print(preprocess(inp))"
   ]
  }
 ],
 "metadata": {
  "kernelspec": {
   "display_name": "Python 3",
   "language": "python",
   "name": "python3"
  },
  "language_info": {
   "codemirror_mode": {
    "name": "ipython",
    "version": 3
   },
   "file_extension": ".py",
   "mimetype": "text/x-python",
   "name": "python",
   "nbconvert_exporter": "python",
   "pygments_lexer": "ipython3",
   "version": "3.12.5"
  }
 },
 "nbformat": 4,
 "nbformat_minor": 5
}
